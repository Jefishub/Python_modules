{
 "cells": [
  {
   "cell_type": "markdown",
   "metadata": {},
   "source": [
    "# Pandas Excercise"
   ]
  },
  {
   "cell_type": "markdown",
   "metadata": {},
   "source": [
    "In this document you will see a dataset \"Kuntien_avainluvut_2020_1.csv\" been analyzed and modified with pandas dataframe"
   ]
  },
  {
   "cell_type": "code",
   "execution_count": 1,
   "metadata": {},
   "outputs": [],
   "source": [
    "import pandas as pd"
   ]
  },
  {
   "cell_type": "code",
   "execution_count": 2,
   "metadata": {},
   "outputs": [],
   "source": [
    "data = pd.read_csv(\"Kuntien_avainluvut_2020_1.csv\", sep=\";\", header=2)"
   ]
  },
  {
   "cell_type": "code",
   "execution_count": null,
   "metadata": {},
   "outputs": [],
   "source": [
    "#Muokataan datan pystyrivin nimiä ja poistetaan ylimääräinen pystyrivi\n",
    "data.rename(columns={'Alue 2019': 'Kaupunki tai kunta', '2018': 'Väkiluku 2018'}, inplace=True)\n",
    "data = data.drop(\"Tiedot\", 1)"
   ]
  },
  {
   "cell_type": "code",
   "execution_count": 3,
   "metadata": {},
   "outputs": [
    {
     "data": {
      "text/html": [
       "<div>\n",
       "<style scoped>\n",
       "    .dataframe tbody tr th:only-of-type {\n",
       "        vertical-align: middle;\n",
       "    }\n",
       "\n",
       "    .dataframe tbody tr th {\n",
       "        vertical-align: top;\n",
       "    }\n",
       "\n",
       "    .dataframe thead th {\n",
       "        text-align: right;\n",
       "    }\n",
       "</style>\n",
       "<table border=\"1\" class=\"dataframe\">\n",
       "  <thead>\n",
       "    <tr style=\"text-align: right;\">\n",
       "      <th></th>\n",
       "      <th>Kaupunki tai kunta</th>\n",
       "      <th>Väkiluku 2018</th>\n",
       "    </tr>\n",
       "  </thead>\n",
       "  <tbody>\n",
       "    <tr>\n",
       "      <th>0</th>\n",
       "      <td>Akaa</td>\n",
       "      <td>16611</td>\n",
       "    </tr>\n",
       "    <tr>\n",
       "      <th>1</th>\n",
       "      <td>Alajärvi</td>\n",
       "      <td>9700</td>\n",
       "    </tr>\n",
       "    <tr>\n",
       "      <th>2</th>\n",
       "      <td>Alavieska</td>\n",
       "      <td>2573</td>\n",
       "    </tr>\n",
       "    <tr>\n",
       "      <th>3</th>\n",
       "      <td>Alavus</td>\n",
       "      <td>11544</td>\n",
       "    </tr>\n",
       "    <tr>\n",
       "      <th>4</th>\n",
       "      <td>Asikkala</td>\n",
       "      <td>8149</td>\n",
       "    </tr>\n",
       "  </tbody>\n",
       "</table>\n",
       "</div>"
      ],
      "text/plain": [
       "  Kaupunki tai kunta  Väkiluku 2018\n",
       "0               Akaa          16611\n",
       "1           Alajärvi           9700\n",
       "2          Alavieska           2573\n",
       "3             Alavus          11544\n",
       "4           Asikkala           8149"
      ]
     },
     "execution_count": 3,
     "metadata": {},
     "output_type": "execute_result"
    }
   ],
   "source": [
    "data.head(5)"
   ]
  },
  {
   "cell_type": "code",
   "execution_count": 4,
   "metadata": {},
   "outputs": [
    {
     "data": {
      "text/html": [
       "<div>\n",
       "<style scoped>\n",
       "    .dataframe tbody tr th:only-of-type {\n",
       "        vertical-align: middle;\n",
       "    }\n",
       "\n",
       "    .dataframe tbody tr th {\n",
       "        vertical-align: top;\n",
       "    }\n",
       "\n",
       "    .dataframe thead th {\n",
       "        text-align: right;\n",
       "    }\n",
       "</style>\n",
       "<table border=\"1\" class=\"dataframe\">\n",
       "  <thead>\n",
       "    <tr style=\"text-align: right;\">\n",
       "      <th></th>\n",
       "      <th>Kaupunki tai kunta</th>\n",
       "      <th>Väkiluku 2018</th>\n",
       "    </tr>\n",
       "  </thead>\n",
       "  <tbody>\n",
       "    <tr>\n",
       "      <th>257</th>\n",
       "      <td>Sottunga</td>\n",
       "      <td>91</td>\n",
       "    </tr>\n",
       "    <tr>\n",
       "      <th>122</th>\n",
       "      <td>Kökar</td>\n",
       "      <td>236</td>\n",
       "    </tr>\n",
       "    <tr>\n",
       "      <th>113</th>\n",
       "      <td>Kumlinge</td>\n",
       "      <td>315</td>\n",
       "    </tr>\n",
       "    <tr>\n",
       "      <th>147</th>\n",
       "      <td>Lumparland</td>\n",
       "      <td>382</td>\n",
       "    </tr>\n",
       "    <tr>\n",
       "      <th>303</th>\n",
       "      <td>Vårdö</td>\n",
       "      <td>448</td>\n",
       "    </tr>\n",
       "  </tbody>\n",
       "</table>\n",
       "</div>"
      ],
      "text/plain": [
       "    Kaupunki tai kunta  Väkiluku 2018\n",
       "257           Sottunga             91\n",
       "122              Kökar            236\n",
       "113           Kumlinge            315\n",
       "147         Lumparland            382\n",
       "303              Vårdö            448"
      ]
     },
     "execution_count": 4,
     "metadata": {},
     "output_type": "execute_result"
    }
   ],
   "source": [
    "# data sisältää kaupungit, maakunnat ja seutukunnat\n",
    "data_min = data.sort_values(by=[\"Väkiluku 2018\"])\n",
    "data_min.head(5)"
   ]
  },
  {
   "cell_type": "code",
   "execution_count": 5,
   "metadata": {},
   "outputs": [
    {
     "data": {
      "text/html": [
       "<div>\n",
       "<style scoped>\n",
       "    .dataframe tbody tr th:only-of-type {\n",
       "        vertical-align: middle;\n",
       "    }\n",
       "\n",
       "    .dataframe tbody tr th {\n",
       "        vertical-align: top;\n",
       "    }\n",
       "\n",
       "    .dataframe thead th {\n",
       "        text-align: right;\n",
       "    }\n",
       "</style>\n",
       "<table border=\"1\" class=\"dataframe\">\n",
       "  <thead>\n",
       "    <tr style=\"text-align: right;\">\n",
       "      <th></th>\n",
       "      <th>Kaupunki tai kunta</th>\n",
       "      <th>Väkiluku 2018</th>\n",
       "    </tr>\n",
       "  </thead>\n",
       "  <tbody>\n",
       "    <tr>\n",
       "      <th>311</th>\n",
       "      <td>Uudenmaan maakunta</td>\n",
       "      <td>1671024</td>\n",
       "    </tr>\n",
       "    <tr>\n",
       "      <th>330</th>\n",
       "      <td>Helsingin seutukunta</td>\n",
       "      <td>1553053</td>\n",
       "    </tr>\n",
       "    <tr>\n",
       "      <th>33</th>\n",
       "      <td>Helsinki</td>\n",
       "      <td>648042</td>\n",
       "    </tr>\n",
       "    <tr>\n",
       "      <th>315</th>\n",
       "      <td>Pirkanmaan maakunta</td>\n",
       "      <td>515095</td>\n",
       "    </tr>\n",
       "    <tr>\n",
       "      <th>312</th>\n",
       "      <td>Varsinais-Suomen maakunta</td>\n",
       "      <td>478582</td>\n",
       "    </tr>\n",
       "  </tbody>\n",
       "</table>\n",
       "</div>"
      ],
      "text/plain": [
       "            Kaupunki tai kunta  Väkiluku 2018\n",
       "311         Uudenmaan maakunta        1671024\n",
       "330       Helsingin seutukunta        1553053\n",
       "33                    Helsinki         648042\n",
       "315        Pirkanmaan maakunta         515095\n",
       "312  Varsinais-Suomen maakunta         478582"
      ]
     },
     "execution_count": 5,
     "metadata": {},
     "output_type": "execute_result"
    }
   ],
   "source": [
    "data_max = data.sort_values(by=[\"Väkiluku 2018\"], ascending=False)\n",
    "data_max.head(5)"
   ]
  },
  {
   "cell_type": "code",
   "execution_count": 6,
   "metadata": {},
   "outputs": [
    {
     "data": {
      "text/plain": [
       "(400, 2)"
      ]
     },
     "execution_count": 6,
     "metadata": {},
     "output_type": "execute_result"
    }
   ],
   "source": [
    "data.shape"
   ]
  },
  {
   "cell_type": "markdown",
   "metadata": {},
   "source": [
    "# Erotellaan tästä eteenpäin maakunnat, seutukunnat sekä kaunpungit omiksi DataFrameiksi sekä järjestetään muotoon min ja max"
   ]
  },
  {
   "cell_type": "code",
   "execution_count": 7,
   "metadata": {},
   "outputs": [
    {
     "data": {
      "text/html": [
       "<div>\n",
       "<style scoped>\n",
       "    .dataframe tbody tr th:only-of-type {\n",
       "        vertical-align: middle;\n",
       "    }\n",
       "\n",
       "    .dataframe tbody tr th {\n",
       "        vertical-align: top;\n",
       "    }\n",
       "\n",
       "    .dataframe thead th {\n",
       "        text-align: right;\n",
       "    }\n",
       "</style>\n",
       "<table border=\"1\" class=\"dataframe\">\n",
       "  <thead>\n",
       "    <tr style=\"text-align: right;\">\n",
       "      <th></th>\n",
       "      <th>Kaupunki tai kunta</th>\n",
       "      <th>Väkiluku 2018</th>\n",
       "    </tr>\n",
       "  </thead>\n",
       "  <tbody>\n",
       "    <tr>\n",
       "      <th>311</th>\n",
       "      <td>Uudenmaan maakunta</td>\n",
       "      <td>1671024</td>\n",
       "    </tr>\n",
       "    <tr>\n",
       "      <th>312</th>\n",
       "      <td>Varsinais-Suomen maakunta</td>\n",
       "      <td>478582</td>\n",
       "    </tr>\n",
       "    <tr>\n",
       "      <th>313</th>\n",
       "      <td>Satakunnan maakunta</td>\n",
       "      <td>218624</td>\n",
       "    </tr>\n",
       "    <tr>\n",
       "      <th>314</th>\n",
       "      <td>Kanta-Hämeen maakunta</td>\n",
       "      <td>171364</td>\n",
       "    </tr>\n",
       "    <tr>\n",
       "      <th>315</th>\n",
       "      <td>Pirkanmaan maakunta</td>\n",
       "      <td>515095</td>\n",
       "    </tr>\n",
       "    <tr>\n",
       "      <th>316</th>\n",
       "      <td>Päijät-Hämeen maakunta</td>\n",
       "      <td>200629</td>\n",
       "    </tr>\n",
       "    <tr>\n",
       "      <th>317</th>\n",
       "      <td>Kymenlaakson maakunta</td>\n",
       "      <td>173388</td>\n",
       "    </tr>\n",
       "    <tr>\n",
       "      <th>318</th>\n",
       "      <td>Etelä-Karjalan maakunta</td>\n",
       "      <td>128756</td>\n",
       "    </tr>\n",
       "    <tr>\n",
       "      <th>319</th>\n",
       "      <td>Etelä-Savon maakunta</td>\n",
       "      <td>144615</td>\n",
       "    </tr>\n",
       "    <tr>\n",
       "      <th>320</th>\n",
       "      <td>Pohjois-Savon maakunta</td>\n",
       "      <td>245602</td>\n",
       "    </tr>\n",
       "    <tr>\n",
       "      <th>321</th>\n",
       "      <td>Pohjois-Karjalan maakunta</td>\n",
       "      <td>162240</td>\n",
       "    </tr>\n",
       "    <tr>\n",
       "      <th>322</th>\n",
       "      <td>Keski-Suomen maakunta</td>\n",
       "      <td>275521</td>\n",
       "    </tr>\n",
       "    <tr>\n",
       "      <th>323</th>\n",
       "      <td>Etelä-Pohjanmaan maakunta</td>\n",
       "      <td>189715</td>\n",
       "    </tr>\n",
       "    <tr>\n",
       "      <th>324</th>\n",
       "      <td>Pohjanmaan maakunta</td>\n",
       "      <td>180794</td>\n",
       "    </tr>\n",
       "    <tr>\n",
       "      <th>325</th>\n",
       "      <td>Keski-Pohjanmaan maakunta</td>\n",
       "      <td>68437</td>\n",
       "    </tr>\n",
       "    <tr>\n",
       "      <th>326</th>\n",
       "      <td>Pohjois-Pohjanmaan maakunta</td>\n",
       "      <td>412161</td>\n",
       "    </tr>\n",
       "    <tr>\n",
       "      <th>327</th>\n",
       "      <td>Kainuun maakunta</td>\n",
       "      <td>73061</td>\n",
       "    </tr>\n",
       "    <tr>\n",
       "      <th>328</th>\n",
       "      <td>Lapin maakunta</td>\n",
       "      <td>178522</td>\n",
       "    </tr>\n",
       "    <tr>\n",
       "      <th>329</th>\n",
       "      <td>Ahvenanmaa</td>\n",
       "      <td>29789</td>\n",
       "    </tr>\n",
       "  </tbody>\n",
       "</table>\n",
       "</div>"
      ],
      "text/plain": [
       "              Kaupunki tai kunta  Väkiluku 2018\n",
       "311           Uudenmaan maakunta        1671024\n",
       "312    Varsinais-Suomen maakunta         478582\n",
       "313          Satakunnan maakunta         218624\n",
       "314        Kanta-Hämeen maakunta         171364\n",
       "315          Pirkanmaan maakunta         515095\n",
       "316       Päijät-Hämeen maakunta         200629\n",
       "317        Kymenlaakson maakunta         173388\n",
       "318      Etelä-Karjalan maakunta         128756\n",
       "319         Etelä-Savon maakunta         144615\n",
       "320       Pohjois-Savon maakunta         245602\n",
       "321    Pohjois-Karjalan maakunta         162240\n",
       "322        Keski-Suomen maakunta         275521\n",
       "323    Etelä-Pohjanmaan maakunta         189715\n",
       "324          Pohjanmaan maakunta         180794\n",
       "325    Keski-Pohjanmaan maakunta          68437\n",
       "326  Pohjois-Pohjanmaan maakunta         412161\n",
       "327             Kainuun maakunta          73061\n",
       "328               Lapin maakunta         178522\n",
       "329                   Ahvenanmaa          29789"
      ]
     },
     "execution_count": 7,
     "metadata": {},
     "output_type": "execute_result"
    }
   ],
   "source": [
    "#erotellaan maakunnat\n",
    "maakunnat = data.iloc[311:330]\n",
    "maakunnat"
   ]
  },
  {
   "cell_type": "code",
   "execution_count": 8,
   "metadata": {},
   "outputs": [
    {
     "data": {
      "text/html": [
       "<div>\n",
       "<style scoped>\n",
       "    .dataframe tbody tr th:only-of-type {\n",
       "        vertical-align: middle;\n",
       "    }\n",
       "\n",
       "    .dataframe tbody tr th {\n",
       "        vertical-align: top;\n",
       "    }\n",
       "\n",
       "    .dataframe thead th {\n",
       "        text-align: right;\n",
       "    }\n",
       "</style>\n",
       "<table border=\"1\" class=\"dataframe\">\n",
       "  <thead>\n",
       "    <tr style=\"text-align: right;\">\n",
       "      <th></th>\n",
       "      <th>Kaupunki tai kunta</th>\n",
       "      <th>Väkiluku 2018</th>\n",
       "    </tr>\n",
       "  </thead>\n",
       "  <tbody>\n",
       "    <tr>\n",
       "      <th>311</th>\n",
       "      <td>Uudenmaan maakunta</td>\n",
       "      <td>1671024</td>\n",
       "    </tr>\n",
       "    <tr>\n",
       "      <th>315</th>\n",
       "      <td>Pirkanmaan maakunta</td>\n",
       "      <td>515095</td>\n",
       "    </tr>\n",
       "    <tr>\n",
       "      <th>312</th>\n",
       "      <td>Varsinais-Suomen maakunta</td>\n",
       "      <td>478582</td>\n",
       "    </tr>\n",
       "    <tr>\n",
       "      <th>326</th>\n",
       "      <td>Pohjois-Pohjanmaan maakunta</td>\n",
       "      <td>412161</td>\n",
       "    </tr>\n",
       "    <tr>\n",
       "      <th>322</th>\n",
       "      <td>Keski-Suomen maakunta</td>\n",
       "      <td>275521</td>\n",
       "    </tr>\n",
       "  </tbody>\n",
       "</table>\n",
       "</div>"
      ],
      "text/plain": [
       "              Kaupunki tai kunta  Väkiluku 2018\n",
       "311           Uudenmaan maakunta        1671024\n",
       "315          Pirkanmaan maakunta         515095\n",
       "312    Varsinais-Suomen maakunta         478582\n",
       "326  Pohjois-Pohjanmaan maakunta         412161\n",
       "322        Keski-Suomen maakunta         275521"
      ]
     },
     "execution_count": 8,
     "metadata": {},
     "output_type": "execute_result"
    }
   ],
   "source": [
    "maakunnat_max = maakunnat.sort_values(by=[\"Väkiluku 2018\"], ascending=False)\n",
    "maakunnat_max.head(5)"
   ]
  },
  {
   "cell_type": "code",
   "execution_count": 9,
   "metadata": {},
   "outputs": [
    {
     "data": {
      "text/html": [
       "<div>\n",
       "<style scoped>\n",
       "    .dataframe tbody tr th:only-of-type {\n",
       "        vertical-align: middle;\n",
       "    }\n",
       "\n",
       "    .dataframe tbody tr th {\n",
       "        vertical-align: top;\n",
       "    }\n",
       "\n",
       "    .dataframe thead th {\n",
       "        text-align: right;\n",
       "    }\n",
       "</style>\n",
       "<table border=\"1\" class=\"dataframe\">\n",
       "  <thead>\n",
       "    <tr style=\"text-align: right;\">\n",
       "      <th></th>\n",
       "      <th>Kaupunki tai kunta</th>\n",
       "      <th>Väkiluku 2018</th>\n",
       "    </tr>\n",
       "  </thead>\n",
       "  <tbody>\n",
       "    <tr>\n",
       "      <th>329</th>\n",
       "      <td>Ahvenanmaa</td>\n",
       "      <td>29789</td>\n",
       "    </tr>\n",
       "    <tr>\n",
       "      <th>325</th>\n",
       "      <td>Keski-Pohjanmaan maakunta</td>\n",
       "      <td>68437</td>\n",
       "    </tr>\n",
       "    <tr>\n",
       "      <th>327</th>\n",
       "      <td>Kainuun maakunta</td>\n",
       "      <td>73061</td>\n",
       "    </tr>\n",
       "    <tr>\n",
       "      <th>318</th>\n",
       "      <td>Etelä-Karjalan maakunta</td>\n",
       "      <td>128756</td>\n",
       "    </tr>\n",
       "    <tr>\n",
       "      <th>319</th>\n",
       "      <td>Etelä-Savon maakunta</td>\n",
       "      <td>144615</td>\n",
       "    </tr>\n",
       "  </tbody>\n",
       "</table>\n",
       "</div>"
      ],
      "text/plain": [
       "            Kaupunki tai kunta  Väkiluku 2018\n",
       "329                 Ahvenanmaa          29789\n",
       "325  Keski-Pohjanmaan maakunta          68437\n",
       "327           Kainuun maakunta          73061\n",
       "318    Etelä-Karjalan maakunta         128756\n",
       "319       Etelä-Savon maakunta         144615"
      ]
     },
     "execution_count": 9,
     "metadata": {},
     "output_type": "execute_result"
    }
   ],
   "source": [
    "maakunnat_min = maakunnat.sort_values(by=[\"Väkiluku 2018\"], ascending=True)\n",
    "maakunnat_min.head(5)"
   ]
  },
  {
   "cell_type": "code",
   "execution_count": 10,
   "metadata": {},
   "outputs": [
    {
     "data": {
      "text/plain": [
       "5517919"
      ]
     },
     "execution_count": 10,
     "metadata": {},
     "output_type": "execute_result"
    }
   ],
   "source": [
    "maakunnat_sum = maakunnat[\"Väkiluku 2018\"].sum()\n",
    "maakunnat_sum"
   ]
  },
  {
   "cell_type": "code",
   "execution_count": 11,
   "metadata": {},
   "outputs": [
    {
     "data": {
      "text/html": [
       "<div>\n",
       "<style scoped>\n",
       "    .dataframe tbody tr th:only-of-type {\n",
       "        vertical-align: middle;\n",
       "    }\n",
       "\n",
       "    .dataframe tbody tr th {\n",
       "        vertical-align: top;\n",
       "    }\n",
       "\n",
       "    .dataframe thead th {\n",
       "        text-align: right;\n",
       "    }\n",
       "</style>\n",
       "<table border=\"1\" class=\"dataframe\">\n",
       "  <thead>\n",
       "    <tr style=\"text-align: right;\">\n",
       "      <th></th>\n",
       "      <th>Kaupunki tai kunta</th>\n",
       "      <th>Väkiluku 2018</th>\n",
       "    </tr>\n",
       "  </thead>\n",
       "  <tbody>\n",
       "    <tr>\n",
       "      <th>0</th>\n",
       "      <td>Akaa</td>\n",
       "      <td>16611</td>\n",
       "    </tr>\n",
       "    <tr>\n",
       "      <th>1</th>\n",
       "      <td>Alajärvi</td>\n",
       "      <td>9700</td>\n",
       "    </tr>\n",
       "    <tr>\n",
       "      <th>2</th>\n",
       "      <td>Alavieska</td>\n",
       "      <td>2573</td>\n",
       "    </tr>\n",
       "    <tr>\n",
       "      <th>3</th>\n",
       "      <td>Alavus</td>\n",
       "      <td>11544</td>\n",
       "    </tr>\n",
       "    <tr>\n",
       "      <th>4</th>\n",
       "      <td>Asikkala</td>\n",
       "      <td>8149</td>\n",
       "    </tr>\n",
       "    <tr>\n",
       "      <th>...</th>\n",
       "      <td>...</td>\n",
       "      <td>...</td>\n",
       "    </tr>\n",
       "    <tr>\n",
       "      <th>306</th>\n",
       "      <td>Ylivieska</td>\n",
       "      <td>15212</td>\n",
       "    </tr>\n",
       "    <tr>\n",
       "      <th>307</th>\n",
       "      <td>Ylöjärvi</td>\n",
       "      <td>32983</td>\n",
       "    </tr>\n",
       "    <tr>\n",
       "      <th>308</th>\n",
       "      <td>Ypäjä</td>\n",
       "      <td>2357</td>\n",
       "    </tr>\n",
       "    <tr>\n",
       "      <th>309</th>\n",
       "      <td>Ähtäri</td>\n",
       "      <td>5703</td>\n",
       "    </tr>\n",
       "    <tr>\n",
       "      <th>310</th>\n",
       "      <td>Äänekoski</td>\n",
       "      <td>18851</td>\n",
       "    </tr>\n",
       "  </tbody>\n",
       "</table>\n",
       "<p>311 rows × 2 columns</p>\n",
       "</div>"
      ],
      "text/plain": [
       "    Kaupunki tai kunta  Väkiluku 2018\n",
       "0                 Akaa          16611\n",
       "1             Alajärvi           9700\n",
       "2            Alavieska           2573\n",
       "3               Alavus          11544\n",
       "4             Asikkala           8149\n",
       "..                 ...            ...\n",
       "306          Ylivieska          15212\n",
       "307           Ylöjärvi          32983\n",
       "308              Ypäjä           2357\n",
       "309             Ähtäri           5703\n",
       "310          Äänekoski          18851\n",
       "\n",
       "[311 rows x 2 columns]"
      ]
     },
     "execution_count": 11,
     "metadata": {},
     "output_type": "execute_result"
    }
   ],
   "source": [
    "#erotellaan kaupungit\n",
    "kaupungit = data.head(311)\n",
    "kaupungit"
   ]
  },
  {
   "cell_type": "code",
   "execution_count": 12,
   "metadata": {},
   "outputs": [
    {
     "data": {
      "text/html": [
       "<div>\n",
       "<style scoped>\n",
       "    .dataframe tbody tr th:only-of-type {\n",
       "        vertical-align: middle;\n",
       "    }\n",
       "\n",
       "    .dataframe tbody tr th {\n",
       "        vertical-align: top;\n",
       "    }\n",
       "\n",
       "    .dataframe thead th {\n",
       "        text-align: right;\n",
       "    }\n",
       "</style>\n",
       "<table border=\"1\" class=\"dataframe\">\n",
       "  <thead>\n",
       "    <tr style=\"text-align: right;\">\n",
       "      <th></th>\n",
       "      <th>Kaupunki tai kunta</th>\n",
       "      <th>Väkiluku 2018</th>\n",
       "    </tr>\n",
       "  </thead>\n",
       "  <tbody>\n",
       "    <tr>\n",
       "      <th>33</th>\n",
       "      <td>Helsinki</td>\n",
       "      <td>648042</td>\n",
       "    </tr>\n",
       "    <tr>\n",
       "      <th>11</th>\n",
       "      <td>Espoo</td>\n",
       "      <td>283632</td>\n",
       "    </tr>\n",
       "    <tr>\n",
       "      <th>268</th>\n",
       "      <td>Tampere</td>\n",
       "      <td>235239</td>\n",
       "    </tr>\n",
       "    <tr>\n",
       "      <th>291</th>\n",
       "      <td>Vantaa</td>\n",
       "      <td>228166</td>\n",
       "    </tr>\n",
       "    <tr>\n",
       "      <th>180</th>\n",
       "      <td>Oulu</td>\n",
       "      <td>203567</td>\n",
       "    </tr>\n",
       "    <tr>\n",
       "      <th>276</th>\n",
       "      <td>Turku</td>\n",
       "      <td>191331</td>\n",
       "    </tr>\n",
       "    <tr>\n",
       "      <th>63</th>\n",
       "      <td>Jyväskylä</td>\n",
       "      <td>141305</td>\n",
       "    </tr>\n",
       "    <tr>\n",
       "      <th>123</th>\n",
       "      <td>Lahti</td>\n",
       "      <td>119951</td>\n",
       "    </tr>\n",
       "    <tr>\n",
       "      <th>114</th>\n",
       "      <td>Kuopio</td>\n",
       "      <td>118664</td>\n",
       "    </tr>\n",
       "    <tr>\n",
       "      <th>201</th>\n",
       "      <td>Pori</td>\n",
       "      <td>84403</td>\n",
       "    </tr>\n",
       "  </tbody>\n",
       "</table>\n",
       "</div>"
      ],
      "text/plain": [
       "    Kaupunki tai kunta  Väkiluku 2018\n",
       "33            Helsinki         648042\n",
       "11               Espoo         283632\n",
       "268            Tampere         235239\n",
       "291             Vantaa         228166\n",
       "180               Oulu         203567\n",
       "276              Turku         191331\n",
       "63           Jyväskylä         141305\n",
       "123              Lahti         119951\n",
       "114             Kuopio         118664\n",
       "201               Pori          84403"
      ]
     },
     "execution_count": 12,
     "metadata": {},
     "output_type": "execute_result"
    }
   ],
   "source": [
    "kaupungit_max = kaupungit.sort_values(by=[\"Väkiluku 2018\"], ascending=False)\n",
    "kaupungit_max.head(10)"
   ]
  },
  {
   "cell_type": "code",
   "execution_count": 13,
   "metadata": {},
   "outputs": [
    {
     "data": {
      "text/html": [
       "<div>\n",
       "<style scoped>\n",
       "    .dataframe tbody tr th:only-of-type {\n",
       "        vertical-align: middle;\n",
       "    }\n",
       "\n",
       "    .dataframe tbody tr th {\n",
       "        vertical-align: top;\n",
       "    }\n",
       "\n",
       "    .dataframe thead th {\n",
       "        text-align: right;\n",
       "    }\n",
       "</style>\n",
       "<table border=\"1\" class=\"dataframe\">\n",
       "  <thead>\n",
       "    <tr style=\"text-align: right;\">\n",
       "      <th></th>\n",
       "      <th>Kaupunki tai kunta</th>\n",
       "      <th>Väkiluku 2018</th>\n",
       "    </tr>\n",
       "  </thead>\n",
       "  <tbody>\n",
       "    <tr>\n",
       "      <th>257</th>\n",
       "      <td>Sottunga</td>\n",
       "      <td>91</td>\n",
       "    </tr>\n",
       "    <tr>\n",
       "      <th>122</th>\n",
       "      <td>Kökar</td>\n",
       "      <td>236</td>\n",
       "    </tr>\n",
       "    <tr>\n",
       "      <th>113</th>\n",
       "      <td>Kumlinge</td>\n",
       "      <td>315</td>\n",
       "    </tr>\n",
       "    <tr>\n",
       "      <th>147</th>\n",
       "      <td>Lumparland</td>\n",
       "      <td>382</td>\n",
       "    </tr>\n",
       "    <tr>\n",
       "      <th>303</th>\n",
       "      <td>Vårdö</td>\n",
       "      <td>448</td>\n",
       "    </tr>\n",
       "  </tbody>\n",
       "</table>\n",
       "</div>"
      ],
      "text/plain": [
       "    Kaupunki tai kunta  Väkiluku 2018\n",
       "257           Sottunga             91\n",
       "122              Kökar            236\n",
       "113           Kumlinge            315\n",
       "147         Lumparland            382\n",
       "303              Vårdö            448"
      ]
     },
     "execution_count": 13,
     "metadata": {},
     "output_type": "execute_result"
    }
   ],
   "source": [
    "kaupungit_min = kaupungit.sort_values(by=[\"Väkiluku 2018\"], ascending=True)\n",
    "kaupungit_min.head(5)"
   ]
  },
  {
   "cell_type": "code",
   "execution_count": 14,
   "metadata": {},
   "outputs": [
    {
     "data": {
      "text/plain": [
       "5517919"
      ]
     },
     "execution_count": 14,
     "metadata": {},
     "output_type": "execute_result"
    }
   ],
   "source": [
    "kaupungit_sum = kaupungit[\"Väkiluku 2018\"].sum()\n",
    "kaupungit_sum"
   ]
  },
  {
   "cell_type": "code",
   "execution_count": 15,
   "metadata": {},
   "outputs": [
    {
     "data": {
      "text/html": [
       "<div>\n",
       "<style scoped>\n",
       "    .dataframe tbody tr th:only-of-type {\n",
       "        vertical-align: middle;\n",
       "    }\n",
       "\n",
       "    .dataframe tbody tr th {\n",
       "        vertical-align: top;\n",
       "    }\n",
       "\n",
       "    .dataframe thead th {\n",
       "        text-align: right;\n",
       "    }\n",
       "</style>\n",
       "<table border=\"1\" class=\"dataframe\">\n",
       "  <thead>\n",
       "    <tr style=\"text-align: right;\">\n",
       "      <th></th>\n",
       "      <th>Kaupunki tai kunta</th>\n",
       "      <th>Väkiluku 2018</th>\n",
       "    </tr>\n",
       "  </thead>\n",
       "  <tbody>\n",
       "    <tr>\n",
       "      <th>330</th>\n",
       "      <td>Helsingin seutukunta</td>\n",
       "      <td>1553053</td>\n",
       "    </tr>\n",
       "    <tr>\n",
       "      <th>331</th>\n",
       "      <td>Raaseporin seutukunta</td>\n",
       "      <td>41374</td>\n",
       "    </tr>\n",
       "    <tr>\n",
       "      <th>332</th>\n",
       "      <td>Porvoon seutukunta</td>\n",
       "      <td>59041</td>\n",
       "    </tr>\n",
       "    <tr>\n",
       "      <th>333</th>\n",
       "      <td>Loviisan seutukunta</td>\n",
       "      <td>17556</td>\n",
       "    </tr>\n",
       "    <tr>\n",
       "      <th>334</th>\n",
       "      <td>Åboland-Turunmaan seutukunta</td>\n",
       "      <td>21941</td>\n",
       "    </tr>\n",
       "    <tr>\n",
       "      <th>...</th>\n",
       "      <td>...</td>\n",
       "      <td>...</td>\n",
       "    </tr>\n",
       "    <tr>\n",
       "      <th>395</th>\n",
       "      <td>Tunturi-Lapin seutukunta</td>\n",
       "      <td>14421</td>\n",
       "    </tr>\n",
       "    <tr>\n",
       "      <th>396</th>\n",
       "      <td>Pohjois-Lapin seutukunta</td>\n",
       "      <td>16606</td>\n",
       "    </tr>\n",
       "    <tr>\n",
       "      <th>397</th>\n",
       "      <td>Mariehamns stad</td>\n",
       "      <td>11743</td>\n",
       "    </tr>\n",
       "    <tr>\n",
       "      <th>398</th>\n",
       "      <td>Ålands landsbygd</td>\n",
       "      <td>15973</td>\n",
       "    </tr>\n",
       "    <tr>\n",
       "      <th>399</th>\n",
       "      <td>Ålands skärgård</td>\n",
       "      <td>2073</td>\n",
       "    </tr>\n",
       "  </tbody>\n",
       "</table>\n",
       "<p>70 rows × 2 columns</p>\n",
       "</div>"
      ],
      "text/plain": [
       "               Kaupunki tai kunta  Väkiluku 2018\n",
       "330          Helsingin seutukunta        1553053\n",
       "331         Raaseporin seutukunta          41374\n",
       "332            Porvoon seutukunta          59041\n",
       "333           Loviisan seutukunta          17556\n",
       "334  Åboland-Turunmaan seutukunta          21941\n",
       "..                            ...            ...\n",
       "395      Tunturi-Lapin seutukunta          14421\n",
       "396      Pohjois-Lapin seutukunta          16606\n",
       "397               Mariehamns stad          11743\n",
       "398              Ålands landsbygd          15973\n",
       "399               Ålands skärgård           2073\n",
       "\n",
       "[70 rows x 2 columns]"
      ]
     },
     "execution_count": 15,
     "metadata": {},
     "output_type": "execute_result"
    }
   ],
   "source": [
    "#erotellaan seutukunnat\n",
    "seutukunnat = data.iloc[330:]\n",
    "seutukunnat"
   ]
  },
  {
   "cell_type": "code",
   "execution_count": 16,
   "metadata": {},
   "outputs": [
    {
     "data": {
      "text/html": [
       "<div>\n",
       "<style scoped>\n",
       "    .dataframe tbody tr th:only-of-type {\n",
       "        vertical-align: middle;\n",
       "    }\n",
       "\n",
       "    .dataframe tbody tr th {\n",
       "        vertical-align: top;\n",
       "    }\n",
       "\n",
       "    .dataframe thead th {\n",
       "        text-align: right;\n",
       "    }\n",
       "</style>\n",
       "<table border=\"1\" class=\"dataframe\">\n",
       "  <thead>\n",
       "    <tr style=\"text-align: right;\">\n",
       "      <th></th>\n",
       "      <th>Kaupunki tai kunta</th>\n",
       "      <th>Väkiluku 2018</th>\n",
       "    </tr>\n",
       "  </thead>\n",
       "  <tbody>\n",
       "    <tr>\n",
       "      <th>330</th>\n",
       "      <td>Helsingin seutukunta</td>\n",
       "      <td>1553053</td>\n",
       "    </tr>\n",
       "    <tr>\n",
       "      <th>347</th>\n",
       "      <td>Tampereen seutukunta</td>\n",
       "      <td>406622</td>\n",
       "    </tr>\n",
       "    <tr>\n",
       "      <th>336</th>\n",
       "      <td>Turun seutukunta</td>\n",
       "      <td>330173</td>\n",
       "    </tr>\n",
       "    <tr>\n",
       "      <th>382</th>\n",
       "      <td>Oulun seutukunta</td>\n",
       "      <td>250415</td>\n",
       "    </tr>\n",
       "    <tr>\n",
       "      <th>350</th>\n",
       "      <td>Lahden seutukunta</td>\n",
       "      <td>200629</td>\n",
       "    </tr>\n",
       "  </tbody>\n",
       "</table>\n",
       "</div>"
      ],
      "text/plain": [
       "       Kaupunki tai kunta  Väkiluku 2018\n",
       "330  Helsingin seutukunta        1553053\n",
       "347  Tampereen seutukunta         406622\n",
       "336      Turun seutukunta         330173\n",
       "382      Oulun seutukunta         250415\n",
       "350     Lahden seutukunta         200629"
      ]
     },
     "execution_count": 16,
     "metadata": {},
     "output_type": "execute_result"
    }
   ],
   "source": [
    "seutukunnat_max = seutukunnat.sort_values(by=[\"Väkiluku 2018\"], ascending=False)\n",
    "seutukunnat_max.head(5)"
   ]
  },
  {
   "cell_type": "code",
   "execution_count": 17,
   "metadata": {},
   "outputs": [
    {
     "data": {
      "text/html": [
       "<div>\n",
       "<style scoped>\n",
       "    .dataframe tbody tr th:only-of-type {\n",
       "        vertical-align: middle;\n",
       "    }\n",
       "\n",
       "    .dataframe tbody tr th {\n",
       "        vertical-align: top;\n",
       "    }\n",
       "\n",
       "    .dataframe thead th {\n",
       "        text-align: right;\n",
       "    }\n",
       "</style>\n",
       "<table border=\"1\" class=\"dataframe\">\n",
       "  <thead>\n",
       "    <tr style=\"text-align: right;\">\n",
       "      <th></th>\n",
       "      <th>Kaupunki tai kunta</th>\n",
       "      <th>Väkiluku 2018</th>\n",
       "    </tr>\n",
       "  </thead>\n",
       "  <tbody>\n",
       "    <tr>\n",
       "      <th>399</th>\n",
       "      <td>Ålands skärgård</td>\n",
       "      <td>2073</td>\n",
       "    </tr>\n",
       "    <tr>\n",
       "      <th>367</th>\n",
       "      <td>Joutsan seutukunta</td>\n",
       "      <td>5174</td>\n",
       "    </tr>\n",
       "    <tr>\n",
       "      <th>360</th>\n",
       "      <td>Koillis-Savon seutukunta</td>\n",
       "      <td>7192</td>\n",
       "    </tr>\n",
       "    <tr>\n",
       "      <th>393</th>\n",
       "      <td>Torniolaakson seutukunta</td>\n",
       "      <td>7460</td>\n",
       "    </tr>\n",
       "    <tr>\n",
       "      <th>368</th>\n",
       "      <td>Keuruun seutukunta</td>\n",
       "      <td>11346</td>\n",
       "    </tr>\n",
       "  </tbody>\n",
       "</table>\n",
       "</div>"
      ],
      "text/plain": [
       "           Kaupunki tai kunta  Väkiluku 2018\n",
       "399           Ålands skärgård           2073\n",
       "367        Joutsan seutukunta           5174\n",
       "360  Koillis-Savon seutukunta           7192\n",
       "393  Torniolaakson seutukunta           7460\n",
       "368        Keuruun seutukunta          11346"
      ]
     },
     "execution_count": 17,
     "metadata": {},
     "output_type": "execute_result"
    }
   ],
   "source": [
    "seutukunnat_min = seutukunnat.sort_values(by=[\"Väkiluku 2018\"], ascending=True)\n",
    "seutukunnat_min.head(5)"
   ]
  },
  {
   "cell_type": "code",
   "execution_count": 18,
   "metadata": {},
   "outputs": [
    {
     "data": {
      "text/plain": [
       "5517919"
      ]
     },
     "execution_count": 18,
     "metadata": {},
     "output_type": "execute_result"
    }
   ],
   "source": [
    "seutukunnat_sum = seutukunnat[\"Väkiluku 2018\"].sum()\n",
    "seutukunnat_sum"
   ]
  },
  {
   "cell_type": "code",
   "execution_count": 19,
   "metadata": {},
   "outputs": [
    {
     "name": "stdout",
     "output_type": "stream",
     "text": [
      "K: 5517919  MK:  5517919  SK:  5517919\n"
     ]
    }
   ],
   "source": [
    "#Tarkastetaan täsmäävätkö summat ?\n",
    "print(\"K:\", kaupungit_sum, \" MK: \", maakunnat_sum, \" SK: \", seutukunnat_sum)\n"
   ]
  },
  {
   "cell_type": "markdown",
   "metadata": {},
   "source": [
    "# Testataan muita juttuja tästä eteenpäin"
   ]
  },
  {
   "cell_type": "code",
   "execution_count": 20,
   "metadata": {},
   "outputs": [
    {
     "data": {
      "text/html": [
       "<div>\n",
       "<style scoped>\n",
       "    .dataframe tbody tr th:only-of-type {\n",
       "        vertical-align: middle;\n",
       "    }\n",
       "\n",
       "    .dataframe tbody tr th {\n",
       "        vertical-align: top;\n",
       "    }\n",
       "\n",
       "    .dataframe thead th {\n",
       "        text-align: right;\n",
       "    }\n",
       "</style>\n",
       "<table border=\"1\" class=\"dataframe\">\n",
       "  <thead>\n",
       "    <tr style=\"text-align: right;\">\n",
       "      <th></th>\n",
       "      <th>Kaupunki tai kunta</th>\n",
       "      <th>Väkiluku 2018</th>\n",
       "    </tr>\n",
       "  </thead>\n",
       "  <tbody>\n",
       "    <tr>\n",
       "      <th>11</th>\n",
       "      <td>Espoo</td>\n",
       "      <td>283632</td>\n",
       "    </tr>\n",
       "    <tr>\n",
       "      <th>33</th>\n",
       "      <td>Helsinki</td>\n",
       "      <td>648042</td>\n",
       "    </tr>\n",
       "    <tr>\n",
       "      <th>63</th>\n",
       "      <td>Jyväskylä</td>\n",
       "      <td>141305</td>\n",
       "    </tr>\n",
       "    <tr>\n",
       "      <th>114</th>\n",
       "      <td>Kuopio</td>\n",
       "      <td>118664</td>\n",
       "    </tr>\n",
       "    <tr>\n",
       "      <th>123</th>\n",
       "      <td>Lahti</td>\n",
       "      <td>119951</td>\n",
       "    </tr>\n",
       "    <tr>\n",
       "      <th>180</th>\n",
       "      <td>Oulu</td>\n",
       "      <td>203567</td>\n",
       "    </tr>\n",
       "    <tr>\n",
       "      <th>268</th>\n",
       "      <td>Tampere</td>\n",
       "      <td>235239</td>\n",
       "    </tr>\n",
       "    <tr>\n",
       "      <th>276</th>\n",
       "      <td>Turku</td>\n",
       "      <td>191331</td>\n",
       "    </tr>\n",
       "    <tr>\n",
       "      <th>291</th>\n",
       "      <td>Vantaa</td>\n",
       "      <td>228166</td>\n",
       "    </tr>\n",
       "  </tbody>\n",
       "</table>\n",
       "</div>"
      ],
      "text/plain": [
       "    Kaupunki tai kunta  Väkiluku 2018\n",
       "11               Espoo         283632\n",
       "33            Helsinki         648042\n",
       "63           Jyväskylä         141305\n",
       "114             Kuopio         118664\n",
       "123              Lahti         119951\n",
       "180               Oulu         203567\n",
       "268            Tampere         235239\n",
       "276              Turku         191331\n",
       "291             Vantaa         228166"
      ]
     },
     "execution_count": 20,
     "metadata": {},
     "output_type": "execute_result"
    }
   ],
   "source": [
    "kaupungit_yli100k = kaupungit[kaupungit[\"Väkiluku 2018\"] > 100000]\n",
    "kaupungit_yli100k"
   ]
  },
  {
   "cell_type": "code",
   "execution_count": 21,
   "metadata": {},
   "outputs": [],
   "source": [
    "import matplotlib.pyplot as plt"
   ]
  },
  {
   "cell_type": "code",
   "execution_count": 22,
   "metadata": {},
   "outputs": [
    {
     "data": {
      "text/plain": [
       "0      648042\n",
       "1      283632\n",
       "2      235239\n",
       "3      228166\n",
       "4      203567\n",
       "        ...  \n",
       "306       448\n",
       "307       382\n",
       "308       315\n",
       "309       236\n",
       "310        91\n",
       "Name: Väkiluku 2018, Length: 311, dtype: int64"
      ]
     },
     "execution_count": 22,
     "metadata": {},
     "output_type": "execute_result"
    }
   ],
   "source": [
    "new = kaupungit_max.reset_index()\n",
    "new[\"Väkiluku 2018\"]"
   ]
  },
  {
   "cell_type": "code",
   "execution_count": 23,
   "metadata": {},
   "outputs": [
    {
     "data": {
      "text/plain": [
       "<matplotlib.axes._subplots.AxesSubplot at 0x1caea4c3148>"
      ]
     },
     "execution_count": 23,
     "metadata": {},
     "output_type": "execute_result"
    },
    {
     "data": {
      "image/png": "[encoded data removed]",
      "text/plain": [
       "<Figure size 432x288 with 1 Axes>"
      ]
     },
     "metadata": {
      "needs_background": "light"
     },
     "output_type": "display_data"
    }
   ],
   "source": [
    "new[\"Väkiluku 2018\"].loc[:30].plot(kind=\"area\", title=\"Suurimpien kaupunkien väkiluvut (1-30)\")"
   ]
  },
  {
   "cell_type": "code",
   "execution_count": 24,
   "metadata": {},
   "outputs": [
    {
     "data": {
      "text/plain": [
       "<matplotlib.axes._subplots.AxesSubplot at 0x1caeac64888>"
      ]
     },
     "execution_count": 24,
     "metadata": {},
     "output_type": "execute_result"
    },
    {
     "data": {
      "image/png": "[encoded data removed]",
      "text/plain": [
       "<Figure size 432x288 with 1 Axes>"
      ]
     },
     "metadata": {
      "needs_background": "light"
     },
     "output_type": "display_data"
    }
   ],
   "source": [
    "new[\"Väkiluku 2018\"].loc[30:].plot(kind=\"area\", title=\"Pienimpien kaupunkien väkiluvut (30+)\")"
   ]
  },
  {
   "cell_type": "code",
   "execution_count": 25,
   "metadata": {},
   "outputs": [
    {
     "data": {
      "text/plain": [
       "<matplotlib.axes._subplots.AxesSubplot at 0x1caead0fe08>"
      ]
     },
     "execution_count": 25,
     "metadata": {},
     "output_type": "execute_result"
    },
    {
     "data": {
      "image/png": "[encoded data removed]",
      "text/plain": [
       "<Figure size 432x288 with 1 Axes>"
      ]
     },
     "metadata": {
      "needs_background": "light"
     },
     "output_type": "display_data"
    }
   ],
   "source": [
    "new.plot.scatter(x=\"index\", y=\"Väkiluku 2018\")"
   ]
  },
  {
   "cell_type": "code",
   "execution_count": null,
   "metadata": {},
   "outputs": [],
   "source": []
  },
  {
   "cell_type": "code",
   "execution_count": null,
   "metadata": {},
   "outputs": [],
   "source": []
  },
  {
   "cell_type": "code",
   "execution_count": null,
   "metadata": {},
   "outputs": [],
   "source": []
  },
  {
   "cell_type": "code",
   "execution_count": null,
   "metadata": {},
   "outputs": [],
   "source": []
  },
  {
   "cell_type": "code",
   "execution_count": null,
   "metadata": {},
   "outputs": [],
   "source": []
  }
 ],
 "metadata": {
  "kernelspec": {
   "display_name": "Python 3",
   "language": "python",
   "name": "python3"
  },
  "language_info": {
   "codemirror_mode": {
    "name": "ipython",
    "version": 3
   },
   "file_extension": ".py",
   "mimetype": "text/x-python",
   "name": "python",
   "nbconvert_exporter": "python",
   "pygments_lexer": "ipython3",
   "version": "3.7.6"
  }
 },
 "nbformat": 4,
 "nbformat_minor": 4
}
