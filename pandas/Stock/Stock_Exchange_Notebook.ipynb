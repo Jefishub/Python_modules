{
 "cells": [
  {
   "cell_type": "code",
   "execution_count": 3,
   "metadata": {},
   "outputs": [],
   "source": [
    "# This is a quick-start file for the assignment. Feel free to erase cells you don't need."
   ]
  },
  {
   "cell_type": "code",
   "execution_count": 4,
   "metadata": {},
   "outputs": [],
   "source": [
    "# Your environment is probably missing some packages. We will check and, if necessary, install.\n",
    "# https://pypi.org/project/yfinance\n",
    "import pip\n",
    "from pip._internal.utils.misc import get_installed_distributions\n",
    "pkgs = ''.join(str(get_installed_distributions(local_only=True)))\n",
    "if \"yfinance\" not in pkgs:\n",
    "    !pip install yfinance\n",
    "if \"lxml\" not in pkgs:\n",
    "    !pip install lxml "
   ]
  },
  {
   "cell_type": "code",
   "execution_count": 5,
   "metadata": {},
   "outputs": [],
   "source": [
    "# Now we can import yfinance\n",
    "import yfinance as yf\n",
    "import pandas as pd\n",
    "from pathlib import Path"
   ]
  },
  {
   "cell_type": "code",
   "execution_count": 29,
   "metadata": {},
   "outputs": [],
   "source": [
    "# Let's define some useful constants\n",
    "START = \"2019-01-01\"\n",
    "END   = \"2020-01-08\"\n",
    "\n",
    "company_name = 'AAPL'\n",
    "\n",
    "TICKERS = [company_name]\n",
    "\n",
    "DATAFILE_NAME = \"data.pickle2\" + company_name"
   ]
  },
  {
   "cell_type": "code",
   "execution_count": 26,
   "metadata": {},
   "outputs": [],
   "source": [
    "# It's practical to download data from Yahoo!Finance just once and keep a local copy\n",
    "if Path(DATAFILE_NAME).is_file(): # check if we got the datafile already\n",
    "    data1 = pd.read_pickle(DATAFILE_NAME) # read it\n",
    "else:\n",
    "    data1 = yf.download(tickers=TICKERS, start=START, end=END, auto_adjust=True)\n",
    "    data1.to_pickle(DATAFILE_NAME) # save localy"
   ]
  },
  {
   "cell_type": "code",
   "execution_count": 32,
   "metadata": {},
   "outputs": [
    {
     "data": {
      "text/html": [
       "<div>\n",
       "<style scoped>\n",
       "    .dataframe tbody tr th:only-of-type {\n",
       "        vertical-align: middle;\n",
       "    }\n",
       "\n",
       "    .dataframe tbody tr th {\n",
       "        vertical-align: top;\n",
       "    }\n",
       "\n",
       "    .dataframe thead th {\n",
       "        text-align: right;\n",
       "    }\n",
       "</style>\n",
       "<table border=\"1\" class=\"dataframe\">\n",
       "  <thead>\n",
       "    <tr style=\"text-align: right;\">\n",
       "      <th></th>\n",
       "      <th>Open</th>\n",
       "      <th>High</th>\n",
       "      <th>Low</th>\n",
       "      <th>Close</th>\n",
       "      <th>Volume</th>\n",
       "    </tr>\n",
       "    <tr>\n",
       "      <th>Date</th>\n",
       "      <th></th>\n",
       "      <th></th>\n",
       "      <th></th>\n",
       "      <th></th>\n",
       "      <th></th>\n",
       "    </tr>\n",
       "  </thead>\n",
       "  <tbody>\n",
       "    <tr>\n",
       "      <th>2019-12-31</th>\n",
       "      <td>71.278314</td>\n",
       "      <td>72.200239</td>\n",
       "      <td>71.177516</td>\n",
       "      <td>72.192863</td>\n",
       "      <td>100805600</td>\n",
       "    </tr>\n",
       "    <tr>\n",
       "      <th>2020-01-02</th>\n",
       "      <td>72.829608</td>\n",
       "      <td>73.901504</td>\n",
       "      <td>72.571473</td>\n",
       "      <td>73.840042</td>\n",
       "      <td>135480400</td>\n",
       "    </tr>\n",
       "    <tr>\n",
       "      <th>2020-01-03</th>\n",
       "      <td>73.053317</td>\n",
       "      <td>73.896570</td>\n",
       "      <td>72.893519</td>\n",
       "      <td>73.122154</td>\n",
       "      <td>146322800</td>\n",
       "    </tr>\n",
       "    <tr>\n",
       "      <th>2020-01-06</th>\n",
       "      <td>72.227286</td>\n",
       "      <td>73.744155</td>\n",
       "      <td>71.971603</td>\n",
       "      <td>73.704819</td>\n",
       "      <td>118387200</td>\n",
       "    </tr>\n",
       "    <tr>\n",
       "      <th>2020-01-07</th>\n",
       "      <td>73.714658</td>\n",
       "      <td>73.975255</td>\n",
       "      <td>73.134463</td>\n",
       "      <td>73.358185</td>\n",
       "      <td>108872000</td>\n",
       "    </tr>\n",
       "  </tbody>\n",
       "</table>\n",
       "</div>"
      ],
      "text/plain": [
       "                 Open       High        Low      Close     Volume\n",
       "Date                                                             \n",
       "2019-12-31  71.278314  72.200239  71.177516  72.192863  100805600\n",
       "2020-01-02  72.829608  73.901504  72.571473  73.840042  135480400\n",
       "2020-01-03  73.053317  73.896570  72.893519  73.122154  146322800\n",
       "2020-01-06  72.227286  73.744155  71.971603  73.704819  118387200\n",
       "2020-01-07  73.714658  73.975255  73.134463  73.358185  108872000"
      ]
     },
     "execution_count": 32,
     "metadata": {},
     "output_type": "execute_result"
    }
   ],
   "source": [
    "data1.head()"
   ]
  },
  {
   "cell_type": "code",
   "execution_count": 33,
   "metadata": {},
   "outputs": [
    {
     "data": {
      "text/html": [
       "<div>\n",
       "<style scoped>\n",
       "    .dataframe tbody tr th:only-of-type {\n",
       "        vertical-align: middle;\n",
       "    }\n",
       "\n",
       "    .dataframe tbody tr th {\n",
       "        vertical-align: top;\n",
       "    }\n",
       "\n",
       "    .dataframe thead th {\n",
       "        text-align: right;\n",
       "    }\n",
       "</style>\n",
       "<table border=\"1\" class=\"dataframe\">\n",
       "  <thead>\n",
       "    <tr style=\"text-align: right;\">\n",
       "      <th></th>\n",
       "      <th>Open</th>\n",
       "      <th>High</th>\n",
       "      <th>Low</th>\n",
       "      <th>Close</th>\n",
       "      <th>Volume</th>\n",
       "    </tr>\n",
       "    <tr>\n",
       "      <th>Date</th>\n",
       "      <th></th>\n",
       "      <th></th>\n",
       "      <th></th>\n",
       "      <th></th>\n",
       "      <th></th>\n",
       "    </tr>\n",
       "  </thead>\n",
       "  <tbody>\n",
       "    <tr>\n",
       "      <th>2019-12-31</th>\n",
       "      <td>71.278314</td>\n",
       "      <td>72.200239</td>\n",
       "      <td>71.177516</td>\n",
       "      <td>72.192863</td>\n",
       "      <td>100805600</td>\n",
       "    </tr>\n",
       "    <tr>\n",
       "      <th>2020-01-02</th>\n",
       "      <td>72.829608</td>\n",
       "      <td>73.901504</td>\n",
       "      <td>72.571473</td>\n",
       "      <td>73.840042</td>\n",
       "      <td>135480400</td>\n",
       "    </tr>\n",
       "    <tr>\n",
       "      <th>2020-01-03</th>\n",
       "      <td>73.053317</td>\n",
       "      <td>73.896570</td>\n",
       "      <td>72.893519</td>\n",
       "      <td>73.122154</td>\n",
       "      <td>146322800</td>\n",
       "    </tr>\n",
       "    <tr>\n",
       "      <th>2020-01-06</th>\n",
       "      <td>72.227286</td>\n",
       "      <td>73.744155</td>\n",
       "      <td>71.971603</td>\n",
       "      <td>73.704819</td>\n",
       "      <td>118387200</td>\n",
       "    </tr>\n",
       "    <tr>\n",
       "      <th>2020-01-07</th>\n",
       "      <td>73.714658</td>\n",
       "      <td>73.975255</td>\n",
       "      <td>73.134463</td>\n",
       "      <td>73.358185</td>\n",
       "      <td>108872000</td>\n",
       "    </tr>\n",
       "  </tbody>\n",
       "</table>\n",
       "</div>"
      ],
      "text/plain": [
       "                 Open       High        Low      Close     Volume\n",
       "Date                                                             \n",
       "2019-12-31  71.278314  72.200239  71.177516  72.192863  100805600\n",
       "2020-01-02  72.829608  73.901504  72.571473  73.840042  135480400\n",
       "2020-01-03  73.053317  73.896570  72.893519  73.122154  146322800\n",
       "2020-01-06  72.227286  73.744155  71.971603  73.704819  118387200\n",
       "2020-01-07  73.714658  73.975255  73.134463  73.358185  108872000"
      ]
     },
     "execution_count": 33,
     "metadata": {},
     "output_type": "execute_result"
    }
   ],
   "source": [
    "data1"
   ]
  },
  {
   "cell_type": "code",
   "execution_count": 30,
   "metadata": {},
   "outputs": [],
   "source": [
    "# It's practical to download data from Yahoo!Finance just once and keep a local copy\n",
    "if Path(DATAFILE_NAME).is_file(): # check if we got the datafile already\n",
    "    data2 = pd.read_pickle(DATAFILE_NAME) # read it\n",
    "else:\n",
    "    data2 = yf.download(tickers=TICKERS, start=START, end=END, auto_adjust=True)\n",
    "    data2.to_pickle(DATAFILE_NAME) # save localy"
   ]
  },
  {
   "cell_type": "code",
   "execution_count": 123,
   "metadata": {},
   "outputs": [
    {
     "data": {
      "text/html": [
       "<div>\n",
       "<style scoped>\n",
       "    .dataframe tbody tr th:only-of-type {\n",
       "        vertical-align: middle;\n",
       "    }\n",
       "\n",
       "    .dataframe tbody tr th {\n",
       "        vertical-align: top;\n",
       "    }\n",
       "\n",
       "    .dataframe thead th {\n",
       "        text-align: right;\n",
       "    }\n",
       "</style>\n",
       "<table border=\"1\" class=\"dataframe\">\n",
       "  <thead>\n",
       "    <tr style=\"text-align: right;\">\n",
       "      <th></th>\n",
       "      <th>index</th>\n",
       "      <th>Date</th>\n",
       "      <th>Open</th>\n",
       "      <th>High</th>\n",
       "      <th>Low</th>\n",
       "      <th>Close</th>\n",
       "      <th>Volume</th>\n",
       "    </tr>\n",
       "  </thead>\n",
       "  <tbody>\n",
       "    <tr>\n",
       "      <th>0</th>\n",
       "      <td>0</td>\n",
       "      <td>2018-12-31</td>\n",
       "      <td>38.397145</td>\n",
       "      <td>38.598178</td>\n",
       "      <td>37.900619</td>\n",
       "      <td>38.205803</td>\n",
       "      <td>140014000</td>\n",
       "    </tr>\n",
       "    <tr>\n",
       "      <th>1</th>\n",
       "      <td>1</td>\n",
       "      <td>2019-01-02</td>\n",
       "      <td>37.515513</td>\n",
       "      <td>38.474656</td>\n",
       "      <td>37.355655</td>\n",
       "      <td>38.249401</td>\n",
       "      <td>148158800</td>\n",
       "    </tr>\n",
       "    <tr>\n",
       "      <th>2</th>\n",
       "      <td>2</td>\n",
       "      <td>2019-01-03</td>\n",
       "      <td>34.873026</td>\n",
       "      <td>35.294468</td>\n",
       "      <td>34.393456</td>\n",
       "      <td>34.439476</td>\n",
       "      <td>365248800</td>\n",
       "    </tr>\n",
       "    <tr>\n",
       "      <th>3</th>\n",
       "      <td>3</td>\n",
       "      <td>2019-01-04</td>\n",
       "      <td>35.006239</td>\n",
       "      <td>35.979914</td>\n",
       "      <td>34.829429</td>\n",
       "      <td>35.909672</td>\n",
       "      <td>234428400</td>\n",
       "    </tr>\n",
       "    <tr>\n",
       "      <th>4</th>\n",
       "      <td>4</td>\n",
       "      <td>2019-01-07</td>\n",
       "      <td>36.016247</td>\n",
       "      <td>36.047735</td>\n",
       "      <td>35.338065</td>\n",
       "      <td>35.829746</td>\n",
       "      <td>219111200</td>\n",
       "    </tr>\n",
       "    <tr>\n",
       "      <th>...</th>\n",
       "      <td>...</td>\n",
       "      <td>...</td>\n",
       "      <td>...</td>\n",
       "      <td>...</td>\n",
       "      <td>...</td>\n",
       "      <td>...</td>\n",
       "      <td>...</td>\n",
       "    </tr>\n",
       "    <tr>\n",
       "      <th>252</th>\n",
       "      <td>252</td>\n",
       "      <td>2019-12-31</td>\n",
       "      <td>71.278314</td>\n",
       "      <td>72.200239</td>\n",
       "      <td>71.177516</td>\n",
       "      <td>72.192863</td>\n",
       "      <td>100805600</td>\n",
       "    </tr>\n",
       "    <tr>\n",
       "      <th>253</th>\n",
       "      <td>253</td>\n",
       "      <td>2020-01-02</td>\n",
       "      <td>72.829608</td>\n",
       "      <td>73.901504</td>\n",
       "      <td>72.571473</td>\n",
       "      <td>73.840042</td>\n",
       "      <td>135480400</td>\n",
       "    </tr>\n",
       "    <tr>\n",
       "      <th>254</th>\n",
       "      <td>254</td>\n",
       "      <td>2020-01-03</td>\n",
       "      <td>73.053317</td>\n",
       "      <td>73.896570</td>\n",
       "      <td>72.893519</td>\n",
       "      <td>73.122154</td>\n",
       "      <td>146322800</td>\n",
       "    </tr>\n",
       "    <tr>\n",
       "      <th>255</th>\n",
       "      <td>255</td>\n",
       "      <td>2020-01-06</td>\n",
       "      <td>72.227286</td>\n",
       "      <td>73.744155</td>\n",
       "      <td>71.971603</td>\n",
       "      <td>73.704819</td>\n",
       "      <td>118387200</td>\n",
       "    </tr>\n",
       "    <tr>\n",
       "      <th>256</th>\n",
       "      <td>256</td>\n",
       "      <td>2020-01-07</td>\n",
       "      <td>73.714658</td>\n",
       "      <td>73.975255</td>\n",
       "      <td>73.134463</td>\n",
       "      <td>73.358185</td>\n",
       "      <td>108872000</td>\n",
       "    </tr>\n",
       "  </tbody>\n",
       "</table>\n",
       "<p>257 rows × 7 columns</p>\n",
       "</div>"
      ],
      "text/plain": [
       "     index       Date       Open       High        Low      Close     Volume\n",
       "0        0 2018-12-31  38.397145  38.598178  37.900619  38.205803  140014000\n",
       "1        1 2019-01-02  37.515513  38.474656  37.355655  38.249401  148158800\n",
       "2        2 2019-01-03  34.873026  35.294468  34.393456  34.439476  365248800\n",
       "3        3 2019-01-04  35.006239  35.979914  34.829429  35.909672  234428400\n",
       "4        4 2019-01-07  36.016247  36.047735  35.338065  35.829746  219111200\n",
       "..     ...        ...        ...        ...        ...        ...        ...\n",
       "252    252 2019-12-31  71.278314  72.200239  71.177516  72.192863  100805600\n",
       "253    253 2020-01-02  72.829608  73.901504  72.571473  73.840042  135480400\n",
       "254    254 2020-01-03  73.053317  73.896570  72.893519  73.122154  146322800\n",
       "255    255 2020-01-06  72.227286  73.744155  71.971603  73.704819  118387200\n",
       "256    256 2020-01-07  73.714658  73.975255  73.134463  73.358185  108872000\n",
       "\n",
       "[257 rows x 7 columns]"
      ]
     },
     "execution_count": 123,
     "metadata": {},
     "output_type": "execute_result"
    }
   ],
   "source": [
    "data2.reset_index(inplace=True)\n",
    "data2"
   ]
  },
  {
   "cell_type": "code",
   "execution_count": 103,
   "metadata": {},
   "outputs": [
    {
     "data": {
      "text/plain": [
       "<matplotlib.axes._subplots.AxesSubplot at 0x2d562e58388>"
      ]
     },
     "execution_count": 103,
     "metadata": {},
     "output_type": "execute_result"
    },
    {
     "data": {
      "image/png": "[encoded data removed]",
      "text/plain": [
       "<Figure size 432x288 with 1 Axes>"
      ]
     },
     "metadata": {
      "needs_background": "light"
     },
     "output_type": "display_data"
    }
   ],
   "source": [
    "data2[\"Close\"].plot()"
   ]
  },
  {
   "cell_type": "code",
   "execution_count": 122,
   "metadata": {},
   "outputs": [
    {
     "data": {
      "text/plain": [
       "<matplotlib.axes._subplots.AxesSubplot at 0x2d56295ac08>"
      ]
     },
     "execution_count": 122,
     "metadata": {},
     "output_type": "execute_result"
    },
    {
     "data": {
      "image/png": "[encoded data removed]",
      "text/plain": [
       "<Figure size 432x288 with 1 Axes>"
      ]
     },
     "metadata": {
      "needs_background": "light"
     },
     "output_type": "display_data"
    }
   ],
   "source": [
    "data2.loc[1:5,\"Close\"].plot()"
   ]
  },
  {
   "cell_type": "code",
   "execution_count": 134,
   "metadata": {},
   "outputs": [
    {
     "name": "stdout",
     "output_type": "stream",
     "text": [
      "The highest drop in one day was: -3.809925079345703\n",
      "Drop-%: -5.16916688111075\n",
      "Date: 2020.1.7\n"
     ]
    }
   ],
   "source": [
    "#Highest drop in one day\n",
    "highest_drop = 0\n",
    "index = 0\n",
    "for i in range(len(data2)-1):\n",
    "    if i < len(data2)-1:\n",
    "        change = data2.iloc[i+1][\"Close\"] - data2.iloc[i][\"Close\"]\n",
    "        if highest_drop > change:\n",
    "            highest_drop = change\n",
    "            index = i\n",
    "drop_pros = (highest_drop / data2.iloc[i][\"Close\"])*100\n",
    "new_date = str(data2.iloc[i+1][\"Date\"].year) + \".\" + str(data2.iloc[i+1][\"Date\"].month) + \".\" + str(data2.iloc[i+1][\"Date\"].day)\n",
    "print(\"The highest drop in one day was: \" + str(highest_drop) + \"\\n\" + \"Drop-%: \" + str(drop_pros) + \"\\n\" + \"Date: \" + new_date)"
   ]
  },
  {
   "cell_type": "code",
   "execution_count": null,
   "metadata": {},
   "outputs": [],
   "source": []
  }
 ],
 "metadata": {
  "kernelspec": {
   "display_name": "Python 3",
   "language": "python",
   "name": "python3"
  },
  "language_info": {
   "codemirror_mode": {
    "name": "ipython",
    "version": 3
   },
   "file_extension": ".py",
   "mimetype": "text/x-python",
   "name": "python",
   "nbconvert_exporter": "python",
   "pygments_lexer": "ipython3",
   "version": "3.7.6"
  }
 },
 "nbformat": 4,
 "nbformat_minor": 2
}
