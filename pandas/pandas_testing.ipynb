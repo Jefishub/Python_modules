{
 "cells": [
  {
   "cell_type": "code",
   "execution_count": 1,
   "metadata": {},
   "outputs": [],
   "source": [
    "import pandas as pd\n",
    "import numpy as np"
   ]
  },
  {
   "cell_type": "code",
   "execution_count": 2,
   "metadata": {},
   "outputs": [
    {
     "name": "stdout",
     "output_type": "stream",
     "text": [
      "Series([], dtype: float64)\n"
     ]
    },
    {
     "name": "stderr",
     "output_type": "stream",
     "text": [
      "C:\\Users\\Jefis\\anaconda3\\lib\\site-packages\\ipykernel_launcher.py:1: DeprecationWarning: The default dtype for empty Series will be 'object' instead of 'float64' in a future version. Specify a dtype explicitly to silence this warning.\n",
      "  \"\"\"Entry point for launching an IPython kernel.\n"
     ]
    }
   ],
   "source": [
    "ser = pd.Series()\n",
    "print(ser)"
   ]
  },
  {
   "cell_type": "code",
   "execution_count": 7,
   "metadata": {},
   "outputs": [
    {
     "name": "stdout",
     "output_type": "stream",
     "text": [
      "['t' 'a' 'i' 't' 'o']\n",
      "Pandas series:\n",
      " 0    t\n",
      "1    a\n",
      "2    i\n",
      "3    t\n",
      "4    o\n",
      "dtype: object\n"
     ]
    }
   ],
   "source": [
    "data_arr = np.array(['t','a','i','t','o'])\n",
    "print (data_arr)\n",
    "\n",
    "data_ser = pd.Series(data_arr)\n",
    "print(\"Pandas series:\\n\", data_ser)"
   ]
  },
  {
   "cell_type": "code",
   "execution_count": 9,
   "metadata": {},
   "outputs": [
    {
     "name": "stdout",
     "output_type": "stream",
     "text": [
      "10    t\n",
      "11    a\n",
      "12    i\n",
      "13    t\n",
      "14    o\n",
      "dtype: object\n"
     ]
    }
   ],
   "source": [
    "data_ser2 = pd.Series(data_arr, index = [10,11,12,13,14])\n",
    "\n",
    "print(data_ser2)"
   ]
  },
  {
   "cell_type": "code",
   "execution_count": 13,
   "metadata": {},
   "outputs": [
    {
     "name": "stdout",
     "output_type": "stream",
     "text": [
      "[0. 0. 0. 0. 0.]\n",
      "Pandas series with index: \n",
      "6     0.0\n",
      "7     0.0\n",
      "8     0.0\n",
      "9     0.0\n",
      "10    0.0\n",
      "dtype: float64\n"
     ]
    }
   ],
   "source": [
    "data_arr_zeros = np.zeros(5)\n",
    "print(data_arr_zeros)\n",
    "\n",
    "data_ser_zeros = pd.Series(data_arr_zeros, index = [6,7,8,9,10])\n",
    "print(\"Pandas series with index: \", data_ser_zeros, sep=\"\\n\")"
   ]
  },
  {
   "cell_type": "code",
   "execution_count": 14,
   "metadata": {},
   "outputs": [
    {
     "data": {
      "text/plain": [
       "0    Taitotalo\n",
       "1       Python\n",
       "2     Koulutus\n",
       "dtype: object"
      ]
     },
     "execution_count": 14,
     "metadata": {},
     "output_type": "execute_result"
    }
   ],
   "source": [
    "kurssin_nimi_lista = [\"Taitotalo\", \"Python\", \"Koulutus\"]\n",
    "kurssin_nimi_series = pd.Series(kurssin_nimi_lista)\n",
    "kurssin_nimi_series"
   ]
  },
  {
   "cell_type": "code",
   "execution_count": 15,
   "metadata": {},
   "outputs": [
    {
     "data": {
      "text/plain": [
       "a    10\n",
       "b    20\n",
       "c    30\n",
       "d    40\n",
       "e    50\n",
       "dtype: int64"
      ]
     },
     "execution_count": 15,
     "metadata": {},
     "output_type": "execute_result"
    }
   ],
   "source": [
    "numbers_list = [10,20,30,40,50]\n",
    "index_list = [\"a\",\"b\",\"c\",\"d\",\"e\"]\n",
    "numbers_series= pd.Series(numbers_list,index=index_list)\n",
    "numbers_series"
   ]
  },
  {
   "cell_type": "code",
   "execution_count": 17,
   "metadata": {},
   "outputs": [
    {
     "data": {
      "text/plain": [
       "a    Python\n",
       "b         C\n",
       "c      Java\n",
       "d     Scala\n",
       "e         R\n",
       "dtype: object"
      ]
     },
     "execution_count": 17,
     "metadata": {},
     "output_type": "execute_result"
    }
   ],
   "source": [
    "programming_languages_list = [\"Python\",\"C\",\"Java\", \"Scala\", \"R\"]\n",
    "programming_languages_Series = pd.Series(programming_languages_list, index_list)\n",
    "programming_languages_Series"
   ]
  },
  {
   "cell_type": "code",
   "execution_count": 18,
   "metadata": {},
   "outputs": [
    {
     "data": {
      "text/plain": [
       "'Python'"
      ]
     },
     "execution_count": 18,
     "metadata": {},
     "output_type": "execute_result"
    }
   ],
   "source": [
    "programming_languages_Series[0]"
   ]
  },
  {
   "cell_type": "code",
   "execution_count": 19,
   "metadata": {},
   "outputs": [
    {
     "data": {
      "text/plain": [
       "0    Python\n",
       "1         C\n",
       "2      Java\n",
       "3     Scala\n",
       "4         R\n",
       "dtype: object"
      ]
     },
     "execution_count": 19,
     "metadata": {},
     "output_type": "execute_result"
    }
   ],
   "source": [
    "test_series =pd.Series(programming_languages_list)\n",
    "test_series"
   ]
  },
  {
   "cell_type": "code",
   "execution_count": 21,
   "metadata": {},
   "outputs": [
    {
     "data": {
      "text/plain": [
       "0    Python\n",
       "1         C\n",
       "2      Java\n",
       "3     Scala\n",
       "4         R\n",
       "5       SQL\n",
       "6      HTML\n",
       "7       C++\n",
       "dtype: object"
      ]
     },
     "execution_count": 21,
     "metadata": {},
     "output_type": "execute_result"
    }
   ],
   "source": [
    "import pandas as pd\n",
    "lst = ['Python', 'C', 'Java', 'Scala', 'R', 'SQL','HTML', 'C++']\n",
    "\n",
    "prog_land_series = pd.Series(lst)\n",
    "prog_land_series"
   ]
  },
  {
   "cell_type": "code",
   "execution_count": 22,
   "metadata": {},
   "outputs": [
    {
     "name": "stdout",
     "output_type": "stream",
     "text": [
      "0     P\n",
      "1     y\n",
      "2     t\n",
      "3     h\n",
      "4     o\n",
      "5     n\n",
      "6     C\n",
      "7     J\n",
      "8     a\n",
      "9     v\n",
      "10    a\n",
      "11    S\n",
      "12    c\n",
      "13    a\n",
      "14    l\n",
      "15    a\n",
      "16    R\n",
      "17    S\n",
      "18    Q\n",
      "19    L\n",
      "20    H\n",
      "21    T\n",
      "22    M\n",
      "23    L\n",
      "24    C\n",
      "25    +\n",
      "26    +\n",
      "dtype: object\n"
     ]
    }
   ],
   "source": [
    "lista2=[]\n",
    "for x in lst:\n",
    "    for a in x:\n",
    "        lista2.append(a)\n",
    "        \n",
    "data=pd.Series(lista2)\n",
    "print(data)"
   ]
  },
  {
   "cell_type": "code",
   "execution_count": 23,
   "metadata": {},
   "outputs": [
    {
     "name": "stdout",
     "output_type": "stream",
     "text": [
      "A    10\n",
      "B    20\n",
      "C    30\n",
      "dtype: int64\n"
     ]
    }
   ],
   "source": [
    "sanakirja = {'A':10, 'B':20, 'C':30}\n",
    "sanakirja_ser = pd.Series(sanakirja)\n",
    "print(sanakirja_ser)"
   ]
  },
  {
   "cell_type": "code",
   "execution_count": 24,
   "metadata": {},
   "outputs": [
    {
     "name": "stdout",
     "output_type": "stream",
     "text": [
      "C    30\n",
      "A    10\n",
      "B    20\n",
      "dtype: int64\n"
     ]
    }
   ],
   "source": [
    "sanakirja2 = {'A':10, 'B':20, 'C':30}\n",
    "sanakirja_ser2 = pd.Series(sanakirja, index=['C','A','B'])\n",
    "print(sanakirja_ser2)"
   ]
  },
  {
   "cell_type": "code",
   "execution_count": 25,
   "metadata": {},
   "outputs": [
    {
     "name": "stdout",
     "output_type": "stream",
     "text": [
      "C    30.0\n",
      "D     NaN\n",
      "A    10.0\n",
      "B    20.0\n",
      "dtype: float64\n"
     ]
    }
   ],
   "source": [
    "sanakirja3 = {'A':10, 'B':20, 'C':30}\n",
    "sanakirja_ser3= pd.Series(sanakirja, index=['C','D','A','B'])\n",
    "print(sanakirja_ser3)"
   ]
  },
  {
   "cell_type": "code",
   "execution_count": 26,
   "metadata": {},
   "outputs": [
    {
     "name": "stdout",
     "output_type": "stream",
     "text": [
      "H   NaN\n",
      "J   NaN\n",
      "K   NaN\n",
      "dtype: float64\n"
     ]
    }
   ],
   "source": [
    "sanakirja4 = {'A':10, 'B':20, 'C':30}\n",
    "sanakirja_ser4 = pd.Series(sanakirja, index=['H','J','K'])\n",
    "print(sanakirja_ser4)"
   ]
  },
  {
   "cell_type": "code",
   "execution_count": 29,
   "metadata": {},
   "outputs": [
    {
     "name": "stdout",
     "output_type": "stream",
     "text": [
      "Alice     10\n",
      "Brian     20\n",
      "Celine    30\n",
      "dtype: int64\n"
     ]
    }
   ],
   "source": [
    "dictionary = {'A':10, 'B':20, 'C':30}\n",
    "series2=pd.Series(dictionary)\n",
    "\n",
    "series2.index= [\"Alice\",\"Brian\", \"Celine\"]\n",
    "print(series2)"
   ]
  },
  {
   "cell_type": "code",
   "execution_count": 30,
   "metadata": {},
   "outputs": [
    {
     "name": "stdout",
     "output_type": "stream",
     "text": [
      "0    10\n",
      "1    10\n",
      "2    10\n",
      "3    10\n",
      "4    10\n",
      "5    10\n",
      "dtype: int64\n"
     ]
    }
   ],
   "source": [
    "#Creating a series from scalar value\n",
    "\n",
    "ser10 = pd.Series(10, index=[0,1,2,3,4,5])\n",
    "print(ser10)"
   ]
  },
  {
   "cell_type": "code",
   "execution_count": 31,
   "metadata": {},
   "outputs": [
    {
     "name": "stdout",
     "output_type": "stream",
     "text": [
      "0    A\n",
      "1    A\n",
      "2    A\n",
      "3    A\n",
      "dtype: object\n"
     ]
    }
   ],
   "source": [
    "serA = pd.Series('A', index =[0,1,2,3])\n",
    "print(serA)"
   ]
  },
  {
   "cell_type": "code",
   "execution_count": 32,
   "metadata": {},
   "outputs": [
    {
     "data": {
      "text/plain": [
       "0     3.0\n",
       "1    18.0\n",
       "2    33.0\n",
       "dtype: float64"
      ]
     },
     "execution_count": 32,
     "metadata": {},
     "output_type": "execute_result"
    }
   ],
   "source": [
    "linespace_array = np.linspace(3,33,3)\n",
    "linespace_set = pd.Series(linespace_array)\n",
    "linespace_set"
   ]
  },
  {
   "cell_type": "code",
   "execution_count": 33,
   "metadata": {},
   "outputs": [
    {
     "data": {
      "text/plain": [
       "0    1.377675\n",
       "1   -1.405156\n",
       "2    0.069693\n",
       "3    0.364064\n",
       "4    0.320197\n",
       "dtype: float64"
      ]
     },
     "execution_count": 33,
     "metadata": {},
     "output_type": "execute_result"
    }
   ],
   "source": [
    "ser_normal = pd.Series(np.random.normal(0,1,5))\n",
    "ser_normal\n"
   ]
  },
  {
   "cell_type": "code",
   "execution_count": 34,
   "metadata": {},
   "outputs": [
    {
     "data": {
      "text/plain": [
       "array([0.08, 0.08, 0.08, 0.08, 0.08, 0.08, 0.08])"
      ]
     },
     "execution_count": 34,
     "metadata": {},
     "output_type": "execute_result"
    }
   ],
   "source": [
    "array_repeat = np.repeat(0.08,7)\n",
    "array_repeat"
   ]
  },
  {
   "cell_type": "code",
   "execution_count": null,
   "metadata": {},
   "outputs": [],
   "source": []
  }
 ],
 "metadata": {
  "kernelspec": {
   "display_name": "Python 3",
   "language": "python",
   "name": "python3"
  },
  "language_info": {
   "codemirror_mode": {
    "name": "ipython",
    "version": 3
   },
   "file_extension": ".py",
   "mimetype": "text/x-python",
   "name": "python",
   "nbconvert_exporter": "python",
   "pygments_lexer": "ipython3",
   "version": "3.7.6"
  }
 },
 "nbformat": 4,
 "nbformat_minor": 4
}
